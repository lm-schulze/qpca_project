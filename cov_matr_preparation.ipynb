{
 "cells": [
  {
   "cell_type": "markdown",
   "id": "0427f074-5a35-414f-9403-939b867f2f2b",
   "metadata": {},
   "source": [
    "# Covariance Matrix preparation\n",
    "In this notebook, we try to implement the covariance matrix preparation via ensemble average density matrix, as proposed in [\"Covariance Matrix Preparation for Quantum Principal Component Analysis\"](https://doi.org/10.1103/PRXQuantum.3.030334) by Gordon et al, 2022."
   ]
  },
  {
   "cell_type": "code",
   "execution_count": 3,
   "id": "c027866a-8321-4a13-8d87-069eb6a19b21",
   "metadata": {},
   "outputs": [],
   "source": [
    "# library imports\n",
    "import numpy as np\n",
    "import matplotlib.pyplot as plt\n",
    "from scipy.signal import find_peaks\n",
    "from scipy.linalg import expm\n",
    "from collections import defaultdict\n",
    "from IPython.display import display\n",
    "from keras.datasets import mnist\n",
    "import random\n",
    "\n",
    "from qiskit_aer import *\n",
    "from qiskit import QuantumCircuit, QuantumRegister, transpile\n",
    "from qiskit.visualization import plot_histogram\n",
    "from qiskit.circuit.library import UnitaryGate, PhaseEstimation\n",
    "from qiskit.circuit.library.data_preparation import StatePreparation\n",
    "from qiskit.quantum_info import DensityMatrix\n",
    "\n",
    "import qPCA_funcs as QF"
   ]
  },
  {
   "cell_type": "markdown",
   "id": "4df2c845-144c-436b-a2bc-a0ff68fb627d",
   "metadata": {},
   "source": [
    "Loading the MNIST handwritten digit dataset:"
   ]
  },
  {
   "cell_type": "code",
   "execution_count": 4,
   "id": "5b6522e3-28f5-42a0-9b90-acec2575ecd2",
   "metadata": {},
   "outputs": [
    {
     "name": "stdout",
     "output_type": "stream",
     "text": [
      "X: (5000, 28, 28)\n",
      "Y: (5000,)\n",
      "0: 505 counts\n",
      "1: 545 counts\n",
      "2: 498 counts\n",
      "3: 484 counts\n",
      "4: 481 counts\n",
      "5: 463 counts\n",
      "6: 478 counts\n",
      "7: 556 counts\n",
      "8: 507 counts\n",
      "9: 483 counts\n",
      "(5000, 784)\n",
      "Covariance matrix shape: (784, 784)\n"
     ]
    }
   ],
   "source": [
    "#checking that the dataset loading works\n",
    "(X, y), _ = mnist.load_data()\n",
    "\n",
    "# take subset of 5000 images\n",
    "idx = np.random.choice(np.arange(y.shape[0]), size=5000, replace=False)\n",
    "X=X[idx,:,:]\n",
    "y=y[idx]\n",
    "\n",
    "#printing the shapes of the vectors \n",
    "print('X: ' + str(X.shape))\n",
    "print('Y: ' + str(y.shape))\n",
    "\n",
    "# check that the labels are balanced\n",
    "nums, counts = np.unique(y, return_counts=True)\n",
    "for n, c in zip(nums, counts):\n",
    "    print(f\"{n}: {c} counts\")\n",
    "\n",
    "# we need to flatten the images into a 1D vector each\n",
    "# so X is a 2D array\n",
    "X = X.reshape((X.shape[0], X.shape[1]*X.shape[2]))\n",
    "print(X.shape)\n",
    "# compute covariance matrix\n",
    "cov_matr = np.cov(X, rowvar=False)\n",
    "print(f'Covariance matrix shape: {cov_matr.shape}')"
   ]
  },
  {
   "cell_type": "markdown",
   "id": "acdd44ca-de20-464f-9537-3ffc5728b5fd",
   "metadata": {},
   "source": [
    "Ok let's try something:"
   ]
  },
  {
   "cell_type": "code",
   "execution_count": 21,
   "id": "277ddccc-30ff-4127-b729-f017d8c91fdf",
   "metadata": {},
   "outputs": [],
   "source": [
    "def amp_encode(vec):\n",
    "    # vec is an input data vector\n",
    "    # padded to len 2**n if necessary\n",
    "    qc = QuantumCircuit(len(vec).bit_length()-1)\n",
    "    qc.append(StatePreparation(vec), qc.qubits)\n",
    "    return qc\n",
    "\n",
    "# randomly sampling from ensemble\n",
    "def estimate_rho_circuit(encoder_circuits, N_samples, shots=1):\n",
    "    # given a list of state prep circuits for the data vectors\n",
    "    # randomly picks one & runs it, returns the density matrix\n",
    "    # which is averaged (no idea if this is even close to correct)\n",
    "    rho_accum = None\n",
    "    for _ in range(N_samples):\n",
    "        i = random.randrange(len(encoder_circuits))\n",
    "        qc = encoder_circuits[i]\n",
    "        # directly simulates dm\n",
    "        # or should I do this differently?\n",
    "        dm = DensityMatrix.from_instruction(qc)\n",
    "        rho_accum = dm if rho_accum is None else rho_accum + dm\n",
    "\n",
    "    return rho_accum / N_samples\n",
    "\n",
    "N_test = 10\n",
    "Xtest = X[:N_test]\n",
    "# normalize\n",
    "norms = np.linalg.norm(Xtest, axis=1)\n",
    "Xtest_normalized = Xtest/norms[:, np.newaxis]\n",
    "# zero padding\n",
    "dim = len(X[0])\n",
    "new_dim =2**int(np.ceil(np.log2(dim)))\n",
    "X_padded = np.zeros((N_test, new_dim))\n",
    "X_padded[:, :dim] = Xtest_normalized\n",
    "# create encoder circuits\n",
    "encoder_circuits = [amp_encode(x) for x in X_padded]\n",
    "# estimate rho\n",
    "rho = estimate_rho_circuit(encoder_circuits, N_test)\n",
    "# took 4890s to run"
   ]
  },
  {
   "cell_type": "code",
   "execution_count": 22,
   "id": "d1df91bc-2da8-486c-b84d-8a3a9f4c2ec1",
   "metadata": {},
   "outputs": [
    {
     "name": "stdout",
     "output_type": "stream",
     "text": [
      "DensityMatrix([[ 3.03976788e-018-3.65495942e-019j,\n",
      "                 3.63230388e-032+4.79363963e-032j,\n",
      "                 5.94534574e-032+1.59081813e-032j, ...,\n",
      "                -1.39327027e-121-8.60328948e-122j,\n",
      "                -2.42406926e-122-2.26941629e-122j,\n",
      "                -7.70316138e-136-1.10903065e-135j],\n",
      "               [ 3.01812980e-032+4.56444694e-032j,\n",
      "                -2.15004966e-033+1.76673922e-034j,\n",
      "                 5.94670553e-046+4.30420134e-046j, ...,\n",
      "                -1.35559720e-123-1.38440462e-123j,\n",
      "                -1.72480329e-135-5.00488442e-136j,\n",
      "                -1.49714449e-137-1.29940698e-137j],\n",
      "               [ 5.37165201e-032+2.79918091e-032j,\n",
      "                 6.67669454e-046+4.81970038e-046j,\n",
      "                -1.30865835e-033-7.60266093e-034j, ...,\n",
      "                -1.49730706e-135-7.29682582e-136j,\n",
      "                -1.22696938e-123-5.19678424e-124j,\n",
      "                -3.84662371e-139-6.64717112e-138j],\n",
      "               ...,\n",
      "               [ 1.44655175e-122-1.18142347e-121j,\n",
      "                 1.46915716e-123+6.40410218e-124j,\n",
      "                -6.60529929e-137-5.77449990e-136j, ...,\n",
      "                -1.73846600e-127+7.87739421e-128j,\n",
      "                -1.77631149e-140+1.11722546e-141j,\n",
      "                -3.81740327e-142-6.60489868e-143j],\n",
      "               [-2.26878233e-123-2.59866318e-122j,\n",
      "                 1.52623847e-136-3.73555898e-137j,\n",
      "                -9.94120359e-124-6.08442565e-125j, ...,\n",
      "                -1.40926149e-140+5.24500924e-141j,\n",
      "                -1.81436025e-127+7.89905974e-128j,\n",
      "                -1.29927185e-142-2.13982641e-143j],\n",
      "               [-4.47481537e-136-1.42239256e-135j,\n",
      "                 9.08506598e-138-5.52364142e-138j,\n",
      "                -5.99575514e-137-2.29068438e-138j, ...,\n",
      "                -2.40326585e-142-2.54573820e-142j,\n",
      "                 5.74015818e-143+5.53108000e-143j,\n",
      "                -4.01258574e-143+3.37497874e-142j]],\n",
      "              dims=(2, 2, 2, 2, 2, 2, 2, 2, 2, 2))\n"
     ]
    }
   ],
   "source": [
    "print(rho)"
   ]
  },
  {
   "cell_type": "code",
   "execution_count": 26,
   "id": "b6808847-9fce-4650-86b3-de44f347fd1f",
   "metadata": {},
   "outputs": [],
   "source": [
    "# let's test this:\n",
    "U_mat = expm(-1j * rho * 2*np.pi)\n",
    "U = UnitaryGate(U_mat, label=\"U\")"
   ]
  },
  {
   "cell_type": "code",
   "execution_count": null,
   "id": "617cc6e6-b79d-4d47-8647-e5b93fbd5b8c",
   "metadata": {},
   "outputs": [],
   "source": [
    "nsys = int(np.log2(new_dim))\n",
    "resolution = 4\n",
    "verbose = True\n",
    "qc_init = QuantumCircuit(nsys)\n",
    "simulator = AerSimulator(method=\"density_matrix\")\n",
    "pe_circuit = QF.build_PE_circuit(qc_init, U, resolution=resolution, verbose=verbose)\n",
    "# transpile the circuit\n",
    "pe_transpiled = transpile(pe_circuit, simulator)\n",
    "# run circuit\n",
    "pe_result = simulator.run(pe_transpiled, initial_state=rho, shots=n_shots).result()\n",
    "# get counts\n",
    "pe_counts = pe_result.get_counts()\n",
    "\n",
    "# plotting the counts if desired\n",
    "if plot_results:\n",
    "    print(\"PE result counts:\")\n",
    "    plot = plot_histogram(pe_counts, figsize=(25, 5))\n",
    "    display(plot)\n",
    "\n",
    "# compute probailities from counts\n",
    "if verbose: print(\"\\nProbability estimation...\")\n",
    "probabilities = QF.probability_estimation(pe_counts, pe_circuit.num_qubits, n_shots)"
   ]
  },
  {
   "cell_type": "code",
   "execution_count": null,
   "id": "afbbcb89-824d-4659-ba00-ce46b7e1b231",
   "metadata": {},
   "outputs": [],
   "source": [
    "# rest to follow"
   ]
  }
 ],
 "metadata": {
  "kernelspec": {
   "display_name": "Python 3 (ipykernel)",
   "language": "python",
   "name": "python3"
  },
  "language_info": {
   "codemirror_mode": {
    "name": "ipython",
    "version": 3
   },
   "file_extension": ".py",
   "mimetype": "text/x-python",
   "name": "python",
   "nbconvert_exporter": "python",
   "pygments_lexer": "ipython3",
   "version": "3.12.4"
  }
 },
 "nbformat": 4,
 "nbformat_minor": 5
}
